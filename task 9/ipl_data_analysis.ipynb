{
  "nbformat": 4,
  "nbformat_minor": 0,
  "metadata": {
    "colab": {
      "provenance": []
    },
    "kernelspec": {
      "name": "python3",
      "display_name": "Python 3"
    },
    "language_info": {
      "name": "python"
    }
  },
  "cells": [
    {
      "cell_type": "code",
      "execution_count": 1,
      "metadata": {
        "colab": {
          "base_uri": "https://localhost:8080/"
        },
        "id": "SaiR-N1Lt282",
        "outputId": "c1757b3f-d6d5-46e7-c898-358dbd5aea50"
      },
      "outputs": [
        {
          "output_type": "stream",
          "name": "stdout",
          "text": [
            "Requirement already satisfied: pyspark in /usr/local/lib/python3.12/dist-packages (3.5.1)\n",
            "Requirement already satisfied: py4j==0.10.9.7 in /usr/local/lib/python3.12/dist-packages (from pyspark) (0.10.9.7)\n"
          ]
        }
      ],
      "source": [
        "!pip install pyspark\n"
      ]
    },
    {
      "cell_type": "code",
      "source": [
        "from pyspark.sql import SparkSession\n",
        "\n",
        "spark = SparkSession.builder \\\n",
        "    .appName(\"IPL Data Analysis\") \\\n",
        "    .master(\"local[*]\") \\\n",
        "    .getOrCreate()\n"
      ],
      "metadata": {
        "id": "Xg-Jn3Ipt6ed"
      },
      "execution_count": 2,
      "outputs": []
    },
    {
      "cell_type": "code",
      "source": [
        "from google.colab import files\n",
        "uploaded = files.upload()\n"
      ],
      "metadata": {
        "colab": {
          "base_uri": "https://localhost:8080/",
          "height": 73
        },
        "id": "kM-VNz8Ut6hR",
        "outputId": "4a2b83b0-2af8-4339-d94e-44b801509148"
      },
      "execution_count": 3,
      "outputs": [
        {
          "output_type": "display_data",
          "data": {
            "text/plain": [
              "<IPython.core.display.HTML object>"
            ],
            "text/html": [
              "\n",
              "     <input type=\"file\" id=\"files-5739e182-d7ab-4a6b-beb4-eb3dab25308e\" name=\"files[]\" multiple disabled\n",
              "        style=\"border:none\" />\n",
              "     <output id=\"result-5739e182-d7ab-4a6b-beb4-eb3dab25308e\">\n",
              "      Upload widget is only available when the cell has been executed in the\n",
              "      current browser session. Please rerun this cell to enable.\n",
              "      </output>\n",
              "      <script>// Copyright 2017 Google LLC\n",
              "//\n",
              "// Licensed under the Apache License, Version 2.0 (the \"License\");\n",
              "// you may not use this file except in compliance with the License.\n",
              "// You may obtain a copy of the License at\n",
              "//\n",
              "//      http://www.apache.org/licenses/LICENSE-2.0\n",
              "//\n",
              "// Unless required by applicable law or agreed to in writing, software\n",
              "// distributed under the License is distributed on an \"AS IS\" BASIS,\n",
              "// WITHOUT WARRANTIES OR CONDITIONS OF ANY KIND, either express or implied.\n",
              "// See the License for the specific language governing permissions and\n",
              "// limitations under the License.\n",
              "\n",
              "/**\n",
              " * @fileoverview Helpers for google.colab Python module.\n",
              " */\n",
              "(function(scope) {\n",
              "function span(text, styleAttributes = {}) {\n",
              "  const element = document.createElement('span');\n",
              "  element.textContent = text;\n",
              "  for (const key of Object.keys(styleAttributes)) {\n",
              "    element.style[key] = styleAttributes[key];\n",
              "  }\n",
              "  return element;\n",
              "}\n",
              "\n",
              "// Max number of bytes which will be uploaded at a time.\n",
              "const MAX_PAYLOAD_SIZE = 100 * 1024;\n",
              "\n",
              "function _uploadFiles(inputId, outputId) {\n",
              "  const steps = uploadFilesStep(inputId, outputId);\n",
              "  const outputElement = document.getElementById(outputId);\n",
              "  // Cache steps on the outputElement to make it available for the next call\n",
              "  // to uploadFilesContinue from Python.\n",
              "  outputElement.steps = steps;\n",
              "\n",
              "  return _uploadFilesContinue(outputId);\n",
              "}\n",
              "\n",
              "// This is roughly an async generator (not supported in the browser yet),\n",
              "// where there are multiple asynchronous steps and the Python side is going\n",
              "// to poll for completion of each step.\n",
              "// This uses a Promise to block the python side on completion of each step,\n",
              "// then passes the result of the previous step as the input to the next step.\n",
              "function _uploadFilesContinue(outputId) {\n",
              "  const outputElement = document.getElementById(outputId);\n",
              "  const steps = outputElement.steps;\n",
              "\n",
              "  const next = steps.next(outputElement.lastPromiseValue);\n",
              "  return Promise.resolve(next.value.promise).then((value) => {\n",
              "    // Cache the last promise value to make it available to the next\n",
              "    // step of the generator.\n",
              "    outputElement.lastPromiseValue = value;\n",
              "    return next.value.response;\n",
              "  });\n",
              "}\n",
              "\n",
              "/**\n",
              " * Generator function which is called between each async step of the upload\n",
              " * process.\n",
              " * @param {string} inputId Element ID of the input file picker element.\n",
              " * @param {string} outputId Element ID of the output display.\n",
              " * @return {!Iterable<!Object>} Iterable of next steps.\n",
              " */\n",
              "function* uploadFilesStep(inputId, outputId) {\n",
              "  const inputElement = document.getElementById(inputId);\n",
              "  inputElement.disabled = false;\n",
              "\n",
              "  const outputElement = document.getElementById(outputId);\n",
              "  outputElement.innerHTML = '';\n",
              "\n",
              "  const pickedPromise = new Promise((resolve) => {\n",
              "    inputElement.addEventListener('change', (e) => {\n",
              "      resolve(e.target.files);\n",
              "    });\n",
              "  });\n",
              "\n",
              "  const cancel = document.createElement('button');\n",
              "  inputElement.parentElement.appendChild(cancel);\n",
              "  cancel.textContent = 'Cancel upload';\n",
              "  const cancelPromise = new Promise((resolve) => {\n",
              "    cancel.onclick = () => {\n",
              "      resolve(null);\n",
              "    };\n",
              "  });\n",
              "\n",
              "  // Wait for the user to pick the files.\n",
              "  const files = yield {\n",
              "    promise: Promise.race([pickedPromise, cancelPromise]),\n",
              "    response: {\n",
              "      action: 'starting',\n",
              "    }\n",
              "  };\n",
              "\n",
              "  cancel.remove();\n",
              "\n",
              "  // Disable the input element since further picks are not allowed.\n",
              "  inputElement.disabled = true;\n",
              "\n",
              "  if (!files) {\n",
              "    return {\n",
              "      response: {\n",
              "        action: 'complete',\n",
              "      }\n",
              "    };\n",
              "  }\n",
              "\n",
              "  for (const file of files) {\n",
              "    const li = document.createElement('li');\n",
              "    li.append(span(file.name, {fontWeight: 'bold'}));\n",
              "    li.append(span(\n",
              "        `(${file.type || 'n/a'}) - ${file.size} bytes, ` +\n",
              "        `last modified: ${\n",
              "            file.lastModifiedDate ? file.lastModifiedDate.toLocaleDateString() :\n",
              "                                    'n/a'} - `));\n",
              "    const percent = span('0% done');\n",
              "    li.appendChild(percent);\n",
              "\n",
              "    outputElement.appendChild(li);\n",
              "\n",
              "    const fileDataPromise = new Promise((resolve) => {\n",
              "      const reader = new FileReader();\n",
              "      reader.onload = (e) => {\n",
              "        resolve(e.target.result);\n",
              "      };\n",
              "      reader.readAsArrayBuffer(file);\n",
              "    });\n",
              "    // Wait for the data to be ready.\n",
              "    let fileData = yield {\n",
              "      promise: fileDataPromise,\n",
              "      response: {\n",
              "        action: 'continue',\n",
              "      }\n",
              "    };\n",
              "\n",
              "    // Use a chunked sending to avoid message size limits. See b/62115660.\n",
              "    let position = 0;\n",
              "    do {\n",
              "      const length = Math.min(fileData.byteLength - position, MAX_PAYLOAD_SIZE);\n",
              "      const chunk = new Uint8Array(fileData, position, length);\n",
              "      position += length;\n",
              "\n",
              "      const base64 = btoa(String.fromCharCode.apply(null, chunk));\n",
              "      yield {\n",
              "        response: {\n",
              "          action: 'append',\n",
              "          file: file.name,\n",
              "          data: base64,\n",
              "        },\n",
              "      };\n",
              "\n",
              "      let percentDone = fileData.byteLength === 0 ?\n",
              "          100 :\n",
              "          Math.round((position / fileData.byteLength) * 100);\n",
              "      percent.textContent = `${percentDone}% done`;\n",
              "\n",
              "    } while (position < fileData.byteLength);\n",
              "  }\n",
              "\n",
              "  // All done.\n",
              "  yield {\n",
              "    response: {\n",
              "      action: 'complete',\n",
              "    }\n",
              "  };\n",
              "}\n",
              "\n",
              "scope.google = scope.google || {};\n",
              "scope.google.colab = scope.google.colab || {};\n",
              "scope.google.colab._files = {\n",
              "  _uploadFiles,\n",
              "  _uploadFilesContinue,\n",
              "};\n",
              "})(self);\n",
              "</script> "
            ]
          },
          "metadata": {}
        },
        {
          "output_type": "stream",
          "name": "stdout",
          "text": [
            "Saving ball_by_ball_data.csv to ball_by_ball_data.csv\n"
          ]
        }
      ]
    },
    {
      "cell_type": "code",
      "source": [
        "df = spark.read.csv(\"ball_by_ball_data.csv\", header=True, inferSchema=True)\n",
        "df.show(5)\n",
        "df.printSchema()\n"
      ],
      "metadata": {
        "colab": {
          "base_uri": "https://localhost:8080/"
        },
        "id": "GGDdlfXRt6kL",
        "outputId": "a8dec249-5845-4a4d-fb4a-2a79f04837a6"
      },
      "execution_count": 5,
      "outputs": [
        {
          "output_type": "stream",
          "name": "stdout",
          "text": [
            "+---------+--------+-----------+-------+-----------+------------+------------+-----------+-----------+-----------+------+----------+--------------+----------------+----------+-----------------+---------+------------+----------+----------+------+----------+--------------+------------+------------+--------+------------+-----------+-------------+-------+\n",
            "|season_id|match_id|     batter| bowler|non_striker|team_batting|team_bowling|over_number|ball_number|batter_runs|extras|total_runs|  batsman_type|     bowler_type|player_out|fielders_involved|is_wicket|is_wide_ball|is_no_ball|is_leg_bye|is_bye|is_penalty|wide_ball_runs|no_ball_runs|leg_bye_runs|bye_runs|penalty_runs|wicket_kind|is_super_over|innings|\n",
            "+---------+--------+-----------+-------+-----------+------------+------------+-----------+-----------+-----------+------+----------+--------------+----------------+----------+-----------------+---------+------------+----------+----------+------+----------+--------------+------------+------------+--------+------------+-----------+-------------+-------+\n",
            "|     2008|  335982| SC Ganguly|P Kumar|BB McCullum|           6|           1|          0|          0|          0|     1|         1| Left hand Bat|Right arm Medium|      NULL|             NULL|    False|       False|     false|      true| false|     false|             0|           0|           1|       0|           0|       NULL|        False|      1|\n",
            "|     2008|  335982|BB McCullum|P Kumar| SC Ganguly|           6|           1|          0|          1|          0|     0|         0|Right hand Bat|Right arm Medium|      NULL|             NULL|    False|       False|     false|     false| false|     false|             0|           0|           0|       0|           0|       NULL|        False|      1|\n",
            "|     2008|  335982|BB McCullum|P Kumar| SC Ganguly|           6|           1|          0|          2|          0|     1|         1|Right hand Bat|Right arm Medium|      NULL|             NULL|    False|        True|     false|     false| false|     false|             1|           0|           0|       0|           0|       NULL|        False|      1|\n",
            "|     2008|  335982|BB McCullum|P Kumar| SC Ganguly|           6|           1|          0|          3|          0|     0|         0|Right hand Bat|Right arm Medium|      NULL|             NULL|    False|       False|     false|     false| false|     false|             0|           0|           0|       0|           0|       NULL|        False|      1|\n",
            "|     2008|  335982|BB McCullum|P Kumar| SC Ganguly|           6|           1|          0|          4|          0|     0|         0|Right hand Bat|Right arm Medium|      NULL|             NULL|    False|       False|     false|     false| false|     false|             0|           0|           0|       0|           0|       NULL|        False|      1|\n",
            "+---------+--------+-----------+-------+-----------+------------+------------+-----------+-----------+-----------+------+----------+--------------+----------------+----------+-----------------+---------+------------+----------+----------+------+----------+--------------+------------+------------+--------+------------+-----------+-------------+-------+\n",
            "only showing top 5 rows\n",
            "\n",
            "root\n",
            " |-- season_id: integer (nullable = true)\n",
            " |-- match_id: integer (nullable = true)\n",
            " |-- batter: string (nullable = true)\n",
            " |-- bowler: string (nullable = true)\n",
            " |-- non_striker: string (nullable = true)\n",
            " |-- team_batting: integer (nullable = true)\n",
            " |-- team_bowling: integer (nullable = true)\n",
            " |-- over_number: integer (nullable = true)\n",
            " |-- ball_number: integer (nullable = true)\n",
            " |-- batter_runs: integer (nullable = true)\n",
            " |-- extras: integer (nullable = true)\n",
            " |-- total_runs: integer (nullable = true)\n",
            " |-- batsman_type: string (nullable = true)\n",
            " |-- bowler_type: string (nullable = true)\n",
            " |-- player_out: string (nullable = true)\n",
            " |-- fielders_involved: string (nullable = true)\n",
            " |-- is_wicket: string (nullable = true)\n",
            " |-- is_wide_ball: string (nullable = true)\n",
            " |-- is_no_ball: boolean (nullable = true)\n",
            " |-- is_leg_bye: boolean (nullable = true)\n",
            " |-- is_bye: boolean (nullable = true)\n",
            " |-- is_penalty: boolean (nullable = true)\n",
            " |-- wide_ball_runs: string (nullable = true)\n",
            " |-- no_ball_runs: string (nullable = true)\n",
            " |-- leg_bye_runs: integer (nullable = true)\n",
            " |-- bye_runs: integer (nullable = true)\n",
            " |-- penalty_runs: integer (nullable = true)\n",
            " |-- wicket_kind: string (nullable = true)\n",
            " |-- is_super_over: string (nullable = true)\n",
            " |-- innings: string (nullable = true)\n",
            "\n"
          ]
        }
      ]
    },
    {
      "cell_type": "code",
      "source": [
        "print(\"Total Rows:\", df.count())\n",
        "print(\"Total Columns:\", len(df.columns))\n",
        "df.select(\"match_id\").distinct().count()\n"
      ],
      "metadata": {
        "colab": {
          "base_uri": "https://localhost:8080/"
        },
        "id": "eO7dyNo9t6m3",
        "outputId": "0e86102c-8526-4e0e-c14e-8036779fb9c4"
      },
      "execution_count": 6,
      "outputs": [
        {
          "output_type": "stream",
          "name": "stdout",
          "text": [
            "Total Rows: 278205\n",
            "Total Columns: 30\n"
          ]
        },
        {
          "output_type": "execute_result",
          "data": {
            "text/plain": [
              "1169"
            ]
          },
          "metadata": {},
          "execution_count": 6
        }
      ]
    },
    {
      "cell_type": "code",
      "source": [
        "from pyspark.sql.functions import sum\n",
        "\n",
        "df.groupBy().sum(\"total_runs\").show()\n"
      ],
      "metadata": {
        "colab": {
          "base_uri": "https://localhost:8080/"
        },
        "id": "JKz9fe-Uw6st",
        "outputId": "b4b4dd63-4e17-49d5-daee-7a1c8db150cc"
      },
      "execution_count": 7,
      "outputs": [
        {
          "output_type": "stream",
          "name": "stdout",
          "text": [
            "+---------------+\n",
            "|sum(total_runs)|\n",
            "+---------------+\n",
            "|         374283|\n",
            "+---------------+\n",
            "\n"
          ]
        }
      ]
    },
    {
      "cell_type": "code",
      "source": [
        "from pyspark.sql.functions import col\n",
        "\n",
        "df.groupBy(\"batter\").sum(\"batter_runs\") \\\n",
        "  .withColumnRenamed(\"sum(batter_runs)\", \"total_runs\") \\\n",
        "  .orderBy(col(\"total_runs\").desc()) \\\n",
        "  .show(10)\n"
      ],
      "metadata": {
        "colab": {
          "base_uri": "https://localhost:8080/"
        },
        "id": "RQzeWAfzw69o",
        "outputId": "bf2088ef-1dd1-4144-9ff8-af366c8738a7"
      },
      "execution_count": 10,
      "outputs": [
        {
          "output_type": "stream",
          "name": "stdout",
          "text": [
            "+--------------+----------+\n",
            "|        batter|total_runs|\n",
            "+--------------+----------+\n",
            "|       V Kohli|      8671|\n",
            "|     RG Sharma|      7048|\n",
            "|      S Dhawan|      6769|\n",
            "|     DA Warner|      6567|\n",
            "|      SK Raina|      5536|\n",
            "|      MS Dhoni|      5439|\n",
            "|      KL Rahul|      5235|\n",
            "|AB de Villiers|      5181|\n",
            "|     AM Rahane|      5032|\n",
            "|      CH Gayle|      4997|\n",
            "+--------------+----------+\n",
            "only showing top 10 rows\n",
            "\n"
          ]
        }
      ]
    },
    {
      "cell_type": "code",
      "source": [
        "df.filter(df.player_out.isNotNull()) \\\n",
        "  .groupBy(\"bowler\").count() \\\n",
        "  .orderBy(col(\"count\").desc()) \\\n",
        "  .show(10)\n"
      ],
      "metadata": {
        "colab": {
          "base_uri": "https://localhost:8080/"
        },
        "id": "Hdgghpb9w7A2",
        "outputId": "148a14af-f4f2-476d-e44b-16cc6726c54f"
      },
      "execution_count": 13,
      "outputs": [
        {
          "output_type": "stream",
          "name": "stdout",
          "text": [
            "+---------------+-----+\n",
            "|         bowler|count|\n",
            "+---------------+-----+\n",
            "|       R Ashwin| 4868|\n",
            "|      SP Narine| 4421|\n",
            "|        B Kumar| 4378|\n",
            "|      RA Jadeja| 4127|\n",
            "|      YS Chahal| 3905|\n",
            "|      PP Chawla| 3895|\n",
            "|Harbhajan Singh| 3496|\n",
            "|      JJ Bumrah| 3474|\n",
            "|       A Mishra| 3444|\n",
            "|       AR Patel| 3371|\n",
            "+---------------+-----+\n",
            "only showing top 10 rows\n",
            "\n"
          ]
        }
      ]
    },
    {
      "cell_type": "code",
      "source": [
        "df.groupBy(\"batter\").sum(\"batter_runs\") \\\n",
        "  .withColumnRenamed(\"sum(batter_runs)\", \"total_runs\") \\\n",
        "  .write.csv(\"batsman_runs_output\", header=True)\n"
      ],
      "metadata": {
        "id": "dCpAIIOFw7EI"
      },
      "execution_count": 15,
      "outputs": []
    },
    {
      "cell_type": "code",
      "source": [],
      "metadata": {
        "id": "27TDN7hUw7L8"
      },
      "execution_count": null,
      "outputs": []
    },
    {
      "cell_type": "code",
      "source": [],
      "metadata": {
        "id": "DrzwEQAEw7OE"
      },
      "execution_count": null,
      "outputs": []
    },
    {
      "cell_type": "code",
      "source": [],
      "metadata": {
        "id": "aZhFEwtMw7Q7"
      },
      "execution_count": null,
      "outputs": []
    },
    {
      "cell_type": "code",
      "source": [],
      "metadata": {
        "id": "JzAqUuYIt6p4"
      },
      "execution_count": null,
      "outputs": []
    },
    {
      "cell_type": "code",
      "source": [],
      "metadata": {
        "id": "obWoJFzOt6s2"
      },
      "execution_count": null,
      "outputs": []
    },
    {
      "cell_type": "code",
      "source": [],
      "metadata": {
        "id": "_-uxs95kt6v_"
      },
      "execution_count": null,
      "outputs": []
    }
  ]
}